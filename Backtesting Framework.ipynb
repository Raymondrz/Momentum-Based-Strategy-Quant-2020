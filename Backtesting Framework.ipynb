{
 "cells": [
  {
   "cell_type": "code",
   "execution_count": 24,
   "metadata": {
    "scrolled": true
   },
   "outputs": [
    {
     "name": "stdout",
     "output_type": "stream",
     "text": [
      "Enter a ticker: AMD\n"
     ]
    },
    {
     "data": {
      "text/html": [
       "<div>\n",
       "<style scoped>\n",
       "    .dataframe tbody tr th:only-of-type {\n",
       "        vertical-align: middle;\n",
       "    }\n",
       "\n",
       "    .dataframe tbody tr th {\n",
       "        vertical-align: top;\n",
       "    }\n",
       "\n",
       "    .dataframe thead th {\n",
       "        text-align: right;\n",
       "    }\n",
       "</style>\n",
       "<table border=\"1\" class=\"dataframe\">\n",
       "  <thead>\n",
       "    <tr style=\"text-align: right;\">\n",
       "      <th></th>\n",
       "      <th>High</th>\n",
       "      <th>Low</th>\n",
       "      <th>Open</th>\n",
       "      <th>Close</th>\n",
       "      <th>Volume</th>\n",
       "      <th>Adj Close</th>\n",
       "    </tr>\n",
       "    <tr>\n",
       "      <th>Date</th>\n",
       "      <th></th>\n",
       "      <th></th>\n",
       "      <th></th>\n",
       "      <th></th>\n",
       "      <th></th>\n",
       "      <th></th>\n",
       "    </tr>\n",
       "  </thead>\n",
       "  <tbody>\n",
       "    <tr>\n",
       "      <th>2009-08-18</th>\n",
       "      <td>3.580000</td>\n",
       "      <td>3.490000</td>\n",
       "      <td>3.550000</td>\n",
       "      <td>3.560000</td>\n",
       "      <td>23269700</td>\n",
       "      <td>3.560000</td>\n",
       "    </tr>\n",
       "    <tr>\n",
       "      <th>2009-08-19</th>\n",
       "      <td>3.530000</td>\n",
       "      <td>3.470000</td>\n",
       "      <td>3.490000</td>\n",
       "      <td>3.520000</td>\n",
       "      <td>10937500</td>\n",
       "      <td>3.520000</td>\n",
       "    </tr>\n",
       "    <tr>\n",
       "      <th>2009-08-20</th>\n",
       "      <td>3.550000</td>\n",
       "      <td>3.490000</td>\n",
       "      <td>3.530000</td>\n",
       "      <td>3.520000</td>\n",
       "      <td>6528900</td>\n",
       "      <td>3.520000</td>\n",
       "    </tr>\n",
       "    <tr>\n",
       "      <th>2009-08-21</th>\n",
       "      <td>3.710000</td>\n",
       "      <td>3.510000</td>\n",
       "      <td>3.530000</td>\n",
       "      <td>3.700000</td>\n",
       "      <td>20133600</td>\n",
       "      <td>3.700000</td>\n",
       "    </tr>\n",
       "    <tr>\n",
       "      <th>2009-08-24</th>\n",
       "      <td>4.100000</td>\n",
       "      <td>3.880000</td>\n",
       "      <td>3.930000</td>\n",
       "      <td>4.000000</td>\n",
       "      <td>49755000</td>\n",
       "      <td>4.000000</td>\n",
       "    </tr>\n",
       "    <tr>\n",
       "      <th>...</th>\n",
       "      <td>...</td>\n",
       "      <td>...</td>\n",
       "      <td>...</td>\n",
       "      <td>...</td>\n",
       "      <td>...</td>\n",
       "      <td>...</td>\n",
       "    </tr>\n",
       "    <tr>\n",
       "      <th>2020-08-11</th>\n",
       "      <td>80.709999</td>\n",
       "      <td>76.099998</td>\n",
       "      <td>80.709999</td>\n",
       "      <td>76.879997</td>\n",
       "      <td>77877700</td>\n",
       "      <td>76.879997</td>\n",
       "    </tr>\n",
       "    <tr>\n",
       "      <th>2020-08-12</th>\n",
       "      <td>82.879997</td>\n",
       "      <td>77.550003</td>\n",
       "      <td>78.430000</td>\n",
       "      <td>82.610001</td>\n",
       "      <td>88607800</td>\n",
       "      <td>82.610001</td>\n",
       "    </tr>\n",
       "    <tr>\n",
       "      <th>2020-08-13</th>\n",
       "      <td>84.019997</td>\n",
       "      <td>81.540001</td>\n",
       "      <td>82.879997</td>\n",
       "      <td>81.839996</td>\n",
       "      <td>57407400</td>\n",
       "      <td>81.839996</td>\n",
       "    </tr>\n",
       "    <tr>\n",
       "      <th>2020-08-14</th>\n",
       "      <td>83.239998</td>\n",
       "      <td>80.879997</td>\n",
       "      <td>81.809998</td>\n",
       "      <td>81.300003</td>\n",
       "      <td>42360400</td>\n",
       "      <td>81.300003</td>\n",
       "    </tr>\n",
       "    <tr>\n",
       "      <th>2020-08-17</th>\n",
       "      <td>83.059998</td>\n",
       "      <td>81.552002</td>\n",
       "      <td>82.089996</td>\n",
       "      <td>82.908897</td>\n",
       "      <td>24913816</td>\n",
       "      <td>82.908897</td>\n",
       "    </tr>\n",
       "  </tbody>\n",
       "</table>\n",
       "<p>2769 rows × 6 columns</p>\n",
       "</div>"
      ],
      "text/plain": [
       "                 High        Low       Open      Close    Volume  Adj Close\n",
       "Date                                                                       \n",
       "2009-08-18   3.580000   3.490000   3.550000   3.560000  23269700   3.560000\n",
       "2009-08-19   3.530000   3.470000   3.490000   3.520000  10937500   3.520000\n",
       "2009-08-20   3.550000   3.490000   3.530000   3.520000   6528900   3.520000\n",
       "2009-08-21   3.710000   3.510000   3.530000   3.700000  20133600   3.700000\n",
       "2009-08-24   4.100000   3.880000   3.930000   4.000000  49755000   4.000000\n",
       "...               ...        ...        ...        ...       ...        ...\n",
       "2020-08-11  80.709999  76.099998  80.709999  76.879997  77877700  76.879997\n",
       "2020-08-12  82.879997  77.550003  78.430000  82.610001  88607800  82.610001\n",
       "2020-08-13  84.019997  81.540001  82.879997  81.839996  57407400  81.839996\n",
       "2020-08-14  83.239998  80.879997  81.809998  81.300003  42360400  81.300003\n",
       "2020-08-17  83.059998  81.552002  82.089996  82.908897  24913816  82.908897\n",
       "\n",
       "[2769 rows x 6 columns]"
      ]
     },
     "execution_count": 24,
     "metadata": {},
     "output_type": "execute_result"
    }
   ],
   "source": [
    "import numpy as np\n",
    "import pandas as pd\n",
    "import pandas_datareader.data as web\n",
    "import datetime as dt\n",
    "import matplotlib.pyplot as plt\n",
    "from scipy.stats import linregress\n",
    "%matplotlib inline\n",
    "num_of_years = 11\n",
    "start = dt.datetime.now() - dt.timedelta(int(365.25 * num_of_years))\n",
    "end = dt.datetime.now() \n",
    "ticker = input(\"Enter a ticker: \")\n",
    "tickers = []\n",
    "df=web.DataReader(ticker,'yahoo',start,end) \n",
    "df"
   ]
  },
  {
   "cell_type": "code",
   "execution_count": 25,
   "metadata": {},
   "outputs": [
    {
     "name": "stderr",
     "output_type": "stream",
     "text": [
      "/opt/anaconda3/lib/python3.7/site-packages/pandas/core/indexing.py:670: SettingWithCopyWarning: \n",
      "A value is trying to be set on a copy of a slice from a DataFrame\n",
      "\n",
      "See the caveats in the documentation: https://pandas.pydata.org/pandas-docs/stable/user_guide/indexing.html#returning-a-view-versus-a-copy\n",
      "  self._setitem_with_indexer(indexer, value)\n",
      "/opt/anaconda3/lib/python3.7/site-packages/ipykernel_launcher.py:23: SettingWithCopyWarning: \n",
      "A value is trying to be set on a copy of a slice from a DataFrame\n",
      "\n",
      "See the caveats in the documentation: https://pandas.pydata.org/pandas-docs/stable/user_guide/indexing.html#returning-a-view-versus-a-copy\n",
      "/opt/anaconda3/lib/python3.7/site-packages/ipykernel_launcher.py:32: SettingWithCopyWarning: \n",
      "A value is trying to be set on a copy of a slice from a DataFrame\n",
      "\n",
      "See the caveats in the documentation: https://pandas.pydata.org/pandas-docs/stable/user_guide/indexing.html#returning-a-view-versus-a-copy\n",
      "/opt/anaconda3/lib/python3.7/site-packages/ipykernel_launcher.py:49: SettingWithCopyWarning: \n",
      "A value is trying to be set on a copy of a slice from a DataFrame\n",
      "\n",
      "See the caveats in the documentation: https://pandas.pydata.org/pandas-docs/stable/user_guide/indexing.html#returning-a-view-versus-a-copy\n",
      "/opt/anaconda3/lib/python3.7/site-packages/ipykernel_launcher.py:1: SettingWithCopyWarning: \n",
      "A value is trying to be set on a copy of a slice from a DataFrame\n",
      "\n",
      "See the caveats in the documentation: https://pandas.pydata.org/pandas-docs/stable/user_guide/indexing.html#returning-a-view-versus-a-copy\n",
      "  \"\"\"Entry point for launching an IPython kernel.\n",
      "/opt/anaconda3/lib/python3.7/site-packages/ipykernel_launcher.py:50: SettingWithCopyWarning: \n",
      "A value is trying to be set on a copy of a slice from a DataFrame\n",
      "\n",
      "See the caveats in the documentation: https://pandas.pydata.org/pandas-docs/stable/user_guide/indexing.html#returning-a-view-versus-a-copy\n",
      "/opt/anaconda3/lib/python3.7/site-packages/ipykernel_launcher.py:65: SettingWithCopyWarning: \n",
      "A value is trying to be set on a copy of a slice from a DataFrame\n",
      "\n",
      "See the caveats in the documentation: https://pandas.pydata.org/pandas-docs/stable/user_guide/indexing.html#returning-a-view-versus-a-copy\n",
      "/opt/anaconda3/lib/python3.7/site-packages/ipykernel_launcher.py:66: SettingWithCopyWarning: \n",
      "A value is trying to be set on a copy of a slice from a DataFrame\n",
      "\n",
      "See the caveats in the documentation: https://pandas.pydata.org/pandas-docs/stable/user_guide/indexing.html#returning-a-view-versus-a-copy\n"
     ]
    },
    {
     "name": "stdout",
     "output_type": "stream",
     "text": [
      "Trading statistics are from 2009-08-19 02:29:06.769580 up till now with 9 trades:\n",
      "=======Performance Metrics=======\n",
      "Total return over 9 trades: 412.85%\n",
      "Annualized Total return 0.8267717882228227\n",
      "Sharpe Ratio:1.0031642355450907\n",
      "Maximum drawdown: -50.12134474234051%\n",
      "Maximum drawdown Period: 1095.0days\n",
      "Gain/loss ratio: 7.998566935607898\n",
      "Total return for a Buy and Hold strategy: 424.13%\n",
      "Average Gain: 154.97%\n",
      "Average Loss: -19.37%\n",
      "Max Return: 489.2857125479695%\n",
      "Max Loss: -37.82771838248268%\n",
      "Cumulative \n",
      "\n"
     ]
    },
    {
     "name": "stderr",
     "output_type": "stream",
     "text": [
      "/opt/anaconda3/lib/python3.7/site-packages/ipykernel_launcher.py:139: SettingWithCopyWarning: \n",
      "A value is trying to be set on a copy of a slice from a DataFrame.\n",
      "Try using .loc[row_indexer,col_indexer] = value instead\n",
      "\n",
      "See the caveats in the documentation: https://pandas.pydata.org/pandas-docs/stable/user_guide/indexing.html#returning-a-view-versus-a-copy\n"
     ]
    },
    {
     "data": {
      "image/png": "[encoded data removed]",
      "text/plain": [
       "<Figure size 720x432 with 1 Axes>"
      ]
     },
     "metadata": {
      "needs_background": "light"
     },
     "output_type": "display_data"
    }
   ],
   "source": [
    "trade(df)"
   ]
  },
  {
   "cell_type": "markdown",
   "metadata": {},
   "source": [
    "## Calculating Hurst"
   ]
  },
  {
   "cell_type": "code",
   "execution_count": 2,
   "metadata": {},
   "outputs": [
    {
     "data": {
      "text/plain": [
       "0.6497868512640183"
      ]
     },
     "execution_count": 2,
     "metadata": {},
     "output_type": "execute_result"
    }
   ],
   "source": [
    "from numpy import log10, polyfit, var, subtract\n",
    "\n",
    "def hurst_function(ts, lag_range=None):\n",
    "    ts = ts if not isinstance(ts, pd.Series) else ts.to_list()\n",
    "    \n",
    "    if len(ts)>250:\n",
    "        ts = log10(ts) # use log price\n",
    "        variancetau = []\n",
    "        tau = []\n",
    "        #  Range of lag values\n",
    "        if lag_range == None:\n",
    "            lags = [2]\n",
    "        else:\n",
    "            lags = range(2, lag_range) # lag_range < len(ts)\n",
    "\n",
    "        for lag in lags: \n",
    "\n",
    "            #  Write the different lags into a vector to compute a set of tau or lags\n",
    "            tau.append(lag)\n",
    "\n",
    "            # The price difference\n",
    "            pp = subtract(ts[lag:], ts[:-lag])\n",
    "            variancetau.append(np.std(pp))\n",
    "\n",
    "            # Plot the log of corrseponding variance against the log of tau and get the slope\n",
    "        m = polyfit(log10(tau),log10(variancetau),1)\n",
    "\n",
    "        hurst = m[0]\n",
    "\n",
    "        return hurst*1.3\n",
    "    else:\n",
    "        return 0\n",
    "\n",
    "hurst_function(df['Adj Close'],50)\n",
    "\n"
   ]
  },
  {
   "cell_type": "code",
   "execution_count": 3,
   "metadata": {},
   "outputs": [],
   "source": [
    "def momentum(ts):\n",
    "    returns=np.log(ts)\n",
    "    x=np.arange(len(returns))\n",
    "    slope, _, rvalue, _, _ = linregress(x,returns)\n",
    "    score=((1+slope)**252)*(rvalue**2)\n",
    "    return score"
   ]
  },
  {
   "cell_type": "markdown",
   "metadata": {},
   "source": [
    "## Initialize Trade Function"
   ]
  },
  {
   "cell_type": "code",
   "execution_count": 23,
   "metadata": {
    "scrolled": true
   },
   "outputs": [],
   "source": [
    "def trade(ts):\n",
    "    df=ts\n",
    "    df['Ownreturn']=df['Adj Close'].pct_change(1)\n",
    "    df['MomentumLag']=df['Adj Close'].rolling(90).apply(momentum)\n",
    "    df['MomentumHold']=df['Adj Close'].rolling(25).apply(momentum)\n",
    "    df['MomentumPos']=None\n",
    "    df['Buy_Signal_Price']=None\n",
    "    df['Sell_Signal_Price']=None\n",
    "    df['Hurst']=None\n",
    "    tradingRange=252\n",
    "    rangeLook=25\n",
    "    for row in range(len(df)):\n",
    "        if row > tradingRange:\n",
    "            df['Hurst'].iloc[row]=hurst_function(df['Adj Close'].iloc[row-tradingRange:row],rangeLook)\n",
    "        else:\n",
    "            df['Hurst'].iloc[row]=0\n",
    "    df=df.iloc[tradingRange+1:]     \n",
    "\n",
    "    for row in range(len(df)): #position long or short\n",
    "        \n",
    "        if(df['Hurst'].iloc[row]>0.5):\n",
    "            if(((df['MomentumLag'].iloc[row] > 0) and (df['MomentumHold'].iloc[row] > 0))):\n",
    "                df['MomentumPos'].iloc[row]=1\n",
    "            elif (((df['MomentumLag'].iloc[row] > 0) and (df['MomentumHold'].iloc[row] < 0))):\n",
    "                df['MomentumPos'].iloc[row]=0\n",
    "        \n",
    "            elif(((df['MomentumLag'].iloc[row] < 0) and (df['MomentumHold'].iloc[row] < 0))):\n",
    "                df['MomentumPos'].iloc[row]=-1  \n",
    "            elif (((df['MomentumLag'].iloc[row] <0) and (df['MomentumHold'].iloc[row] > 0))):\n",
    "                df['MomentumPos'].iloc[row]=0\n",
    "        else:\n",
    "            df['MomentumPos'].iloc[row]=0\n",
    "    position=0 #1 means we enter positions, 0 nomeans not ealready entered\n",
    "    counter=0\n",
    "    percentChange=[]\n",
    "    pnl=[]\n",
    "    #Start of trading day minus the first lag use to calculate the momentum period\n",
    "    \n",
    "    momentumPos=df['MomentumPos'] \n",
    "    for i in df.index:\n",
    "        \n",
    "         #for daily return\n",
    "        close=df['Adj Close'][i]\n",
    "        \n",
    "        if(momentumPos[i]==1):\n",
    "            if(position==0): #buy\n",
    "                buyP=close\n",
    "                position=1\n",
    "                df['Buy_Signal_Price'][i]=buyP\n",
    "                df['Sell_Signal_Price'][i]=np.nan\n",
    "        elif(momentumPos[i]==-1):\n",
    "            if(position==0): #short\n",
    "                position=-1\n",
    "                sellP=close\n",
    "                df['Buy_Signal_Price'][i]=np.nan\n",
    "                df['Sell_Signal_Price'][i]=sellP\n",
    "        elif(momentumPos[i]==0):\n",
    "            if(position==1): #Sell current poisition\n",
    "                position=0 #selling position\n",
    "                sellP=close #selling price\n",
    "                perc=(sellP/buyP-1)*100\n",
    "                p=sellP-buyP\n",
    "                pnl.append(p)\n",
    "                percentChange.append(perc)\n",
    "                df['Buy_Signal_Price'][i]=np.nan\n",
    "                df['Sell_Signal_Price'][i]=sellP\n",
    "            elif(position==-1):#covering short position\n",
    "                position=0 #buying position\n",
    "                buyP=close #buy price\n",
    "                perc=(sellP/buyP-1)*100\n",
    "                p=sellP-buyP\n",
    "                pnl.append(p)\n",
    "                percentChange.append(perc)\n",
    "                df['Buy_Signal_Price'].iloc[i]=buyP\n",
    "                df['Sell_Signal_Price'].iloc[i]=np.nan\n",
    "        else:\n",
    "            df['Buy_Signal_Price'].iloc[i]=np.nan\n",
    "            df['Sell_Signal_Price'].iloc[i]=np.nan\n",
    "        \n",
    "        #if we stil have long or short position in the end, exit it      \n",
    "        if(counter==df['Adj Close'].count()-1 and position==1):\n",
    "            position=0\n",
    "            sellP=close\n",
    "            perc=(sellP/buyP-1)*100\n",
    "            percentChange.append(perc)\n",
    "            p=sellP-buyP\n",
    "            pnl.append(p)\n",
    "        elif(counter==df['Adj Close'].count()-1 and position==-1):\n",
    "            position=0\n",
    "            buyP=close\n",
    "            perc=(sellP/buyP-1)*100\n",
    "            percentChange.append(perc)\n",
    "            p=sellP-buyP\n",
    "            pnl.append(p)\n",
    "        \n",
    "        \n",
    "        counter+=1\n",
    "    #Daily Return \n",
    "    \n",
    "    daily_ret=df['Adj Close'].pct_change()*df['MomentumPos'].shift(1)\n",
    "    cum_ret=1*(1+daily_ret).cumprod()\n",
    "    #Annualized sharpe ratio\n",
    "    sharpe=(np.mean(cum_ret))/np.std(cum_ret)\n",
    "    \n",
    "    gains=0\n",
    "    numGains=0\n",
    "    losses=0\n",
    "    numLosses=0\n",
    "    totReturn=round(daily_ret.sum()*100,2)\n",
    "    \n",
    "    for i in percentChange:\n",
    "        if(i>0):\n",
    "            gains+=i\n",
    "            numGains+=1\n",
    "        else:\n",
    "            losses+=i\n",
    "            numLosses+=1\n",
    "        #totReturn=totReturn**((i/100)+1)\n",
    "    #totReturn=round((totReturn-1)*100,2)\n",
    "    \n",
    "    print(\"Trading statistics are from \"+str(start)+\" up till now with \" +str(numGains+numLosses)+\" trades:\")\n",
    "    \n",
    "    if (numGains>0):\n",
    "        avgGain=gains/numGains\n",
    "        maxReturn=str(max(percentChange))\n",
    "    else:\n",
    "        avgGain=0\n",
    "        maxReturn.np.nan\n",
    "    \n",
    "    if(numLosses>0):\n",
    "        avgLoss=losses/numLosses\n",
    "        maxLoss=str(min(percentChange))\n",
    "        ratioRR=str(-avgGain/avgLoss) #risk-reawrd ratio\n",
    "    else:\n",
    "        avgLoss=0\n",
    "        maxLoss=np.nan\n",
    "        ratioRR='inf'\n",
    "    \n",
    "    df['PC']=df['Adj Close'].pct_change()\n",
    "    hold=round(df['PC'].sum()*100,2)\n",
    "    print (\"=================Performance Metrics==============\")\n",
    "    print(\"Total return over \" +str(numGains+numLosses)+\" trades: \"+ str(totReturn)+\"%\")\n",
    "    print(\"Annualized Total return \"+ str(annualize_return(totReturn)))\n",
    "    print(\"Sharpe Ratio:\" + str(sharpe))\n",
    "    calculateMaxDD(cum_ret)\n",
    "    print(\"Gain/loss ratio: \"+ str(ratioRR))\n",
    "    print(\"\")\n",
    "    print(\"================Trading Statistics===================\")\n",
    "    print (\"Total return for a Buy and Hold strategy: \" + str(hold)+'%')\n",
    "    print(\"Average Gain: \"+ str(round(avgGain, 2))+\"%\")\n",
    "    print(\"Average Loss: \"+ str(round(avgLoss, 2))+\"%\")\n",
    "    print(\"Max Return: \"+ str(maxReturn)+\"%\")\n",
    "    print(\"Max Loss: \"+ str(maxLoss)+\"%\")\n",
    "    print(\"\")\n",
    "    \n",
    "   \n",
    "    \n",
    "    if(numGains>0 or numLosses>0):\n",
    "        batAvg=numGains/(numGains+numLosses)\n",
    "    else:\n",
    "        batAvg=0\n",
    "    \n",
    "    #print(\"Batting Average: \"+str(batAvg))\n",
    "    \n",
    "    fig=plt.figure(figsize=(10,6))\n",
    "    x=range(len(pnl))\n",
    "    plt.bar(x,pnl,alpha=0.5)\n",
    "    plt.xlabel('trades',fontsize=14)\n",
    "    plt.ylabel('Profit/Loss ($)', fontsize=14)\n",
    "    plt.show()\n",
    "    "
   ]
  },
  {
   "cell_type": "markdown",
   "metadata": {},
   "source": []
  },
  {
   "cell_type": "markdown",
   "metadata": {},
   "source": [
    "## Signal Buy and Sell Assets for Visualizations"
   ]
  },
  {
   "cell_type": "code",
   "execution_count": 123,
   "metadata": {
    "scrolled": true
   },
   "outputs": [
    {
     "data": {
      "text/plain": [
       "<matplotlib.legend.Legend at 0x20f751e9c48>"
      ]
     },
     "execution_count": 123,
     "metadata": {},
     "output_type": "execute_result"
    },
    {
     "data": {
      "image/png": "[encoded data removed]",
      "text/plain": [
       "<Figure size 1152x576 with 1 Axes>"
      ]
     },
     "metadata": {
      "needs_background": "light"
     },
     "output_type": "display_data"
    }
   ],
   "source": [
    "plt.figure(figsize=(16,8))\n",
    "plt.plot(df['Adj Close'],label=ticker,alpha=0.5)\n",
    "plt.scatter(df.index,df['Buy_Signal_Price'],label='Buy',marker='^',color='green')\n",
    "plt.scatter(df.index,df['Sell_Signal_Price'],label='Sell',marker='v',color='red')\n",
    "plt.title(ticker +' Buy and Sell Visualization ')\n",
    "plt.xlabel('Date')\n",
    "plt.ylabel('Adj Closing Price')\n",
    "plt.legend(loc='upper left')\n"
   ]
  },
  {
   "cell_type": "markdown",
   "metadata": {},
   "source": [
    "## Cumulative return Performance"
   ]
  },
  {
   "cell_type": "code",
   "execution_count": 124,
   "metadata": {
    "scrolled": false
   },
   "outputs": [
    {
     "data": {
      "image/png": "[encoded data removed]",
      "text/plain": [
       "<Figure size 720x432 with 1 Axes>"
      ]
     },
     "metadata": {
      "needs_background": "light"
     },
     "output_type": "display_data"
    }
   ],
   "source": [
    "\n",
    "def cumulative_return(ts):\n",
    "    df=ts\n",
    "    df['01 Trading Srategy']=1*(1+df['Adj Close'].pct_change()*df['MomentumPos'].shift(1)).cumprod()\n",
    "    df['02 Buy and Hold']=1*(1+df['Ownreturn']).cumprod()\n",
    "    df[['01 Trading Srategy','02 Buy and Hold']].plot(label='tesla',figsize=(10,6))\n",
    "    plt.title('Cumulative Returns Performance ')\n",
    "    \n",
    "cumulative_return(df)"
   ]
  },
  {
   "cell_type": "code",
   "execution_count": 6,
   "metadata": {},
   "outputs": [],
   "source": [
    "df=df.iloc[253:] #remove nan value\n",
    "\n",
    "def annualize_return(total_return):\n",
    "    year=10 #Specified\n",
    "    return ((1+total_return)**(1/year))-1\n",
    "\n"
   ]
  },
  {
   "cell_type": "markdown",
   "metadata": {},
   "source": [
    "## Calculate MaxDrawdown period"
   ]
  },
  {
   "cell_type": "code",
   "execution_count": 9,
   "metadata": {},
   "outputs": [],
   "source": [
    "def calculateMaxDD(cumret):\n",
    "    highwatermark=np.zeros(len(cumret))\n",
    "    drawdown=np.zeros(len(cumret))\n",
    "    drawdownduration=np.zeros(len(cumret))\n",
    "    for t in range(1,len(cumret)):\n",
    "        highwatermark[t]=np.max([highwatermark[t-1], cumret[t]])\n",
    "        drawdown[t]=(1+cumret[t])/(1+highwatermark[t])-1\n",
    "        if (drawdown[t]==0):\n",
    "            drawdownduration[t]=0\n",
    "        else:\n",
    "            drawdownduration[t]=drawdownduration[t-1]+1\n",
    "    print (\"Maximum drawdown: \"+str(np.min(drawdown)*100)+\"%\")\n",
    "    print (\"Maximum drawdown Period: \"+str(np.max(drawdownduration))+\"days\")\n",
    "    \n",
    "#calculateMaxDD(df['01 Trading Srategy'])\n"
   ]
  },
  {
   "cell_type": "markdown",
   "metadata": {},
   "source": [
    "### Test the program "
   ]
  },
  {
   "cell_type": "code",
   "execution_count": 117,
   "metadata": {},
   "outputs": [],
   "source": []
  },
  {
   "cell_type": "code",
   "execution_count": null,
   "metadata": {},
   "outputs": [],
   "source": []
  },
  {
   "cell_type": "code",
   "execution_count": null,
   "metadata": {},
   "outputs": [],
   "source": [
    "def testing_program(tickers):\n",
    "    x = []\n",
    "    for ticker in tickers:\n",
    "        print('Trading on: {}'.format(ticker))\n",
    "        data,beta, risk, sharpe, ret, profit = trade(data)\n",
    "        temp = {\n",
    "            'ticker':ticker,\n",
    "            'beta':beta,\n",
    "            'risk':risk,\n",
    "            'sharpe': sharpe,\n",
    "            'return':ret,\n",
    "            'profit':profit\n",
    "        }\n",
    "        x.append(temp)\n",
    "        \n",
    "    df = pd.DataFrame(x, columns=['ticker','beta','risk','sharpe','return','profit'])\n",
    "        \n",
    "    return df"
   ]
  },
  {
   "cell_type": "code",
   "execution_count": null,
   "metadata": {},
   "outputs": [],
   "source": [
    "df"
   ]
  },
  {
   "cell_type": "markdown",
   "metadata": {},
   "source": [
    "### Test 100 random Company in the data file"
   ]
  },
  {
   "cell_type": "code",
   "execution_count": null,
   "metadata": {},
   "outputs": [],
   "source": [
    "def select_random(tickers, num):\n",
    "    test_companies = []\n",
    "    already_used = []\n",
    "    for i in range(0,num):\n",
    "        pos = random.randint(0,len(tickers)-1)\n",
    "        \n",
    "        while True:\n",
    "            if pos in already_used:\n",
    "                pos = random.randint(0,len(tickers))\n",
    "            else:\n",
    "                already_used.append(pos)\n",
    "                break\n",
    "            \n",
    "        test_companies.append(tickers[pos])\n",
    "    \n",
    "    return test_companies\n",
    "\n",
    "def test_100():\n",
    "    companies = pd.read_csv('constituents.csv')\n",
    "    tickers = companies['Symbol'].tolist()\n",
    "    for n, i in enumerate(tickers):\n",
    "        if i == 'BRK.B':\n",
    "            tickers[n] = 'BRK'\n",
    "        if i == 'BF.B':\n",
    "            tickers[n] = 'BF'\n",
    "\n",
    "    companies = select_random(tickers, 100)\n",
    "    df = testing_program(companies, model)\n",
    "    df.to_csv('Backtest_100_Stocks.csv')"
   ]
  },
  {
   "cell_type": "code",
   "execution_count": null,
   "metadata": {},
   "outputs": [],
   "source": []
  },
  {
   "cell_type": "markdown",
   "metadata": {},
   "source": []
  },
  {
   "cell_type": "code",
   "execution_count": null,
   "metadata": {},
   "outputs": [],
   "source": []
  },
  {
   "cell_type": "code",
   "execution_count": null,
   "metadata": {},
   "outputs": [],
   "source": []
  }
 ],
 "metadata": {
  "kernelspec": {
   "display_name": "Python 3",
   "language": "python",
   "name": "python3"
  },
  "language_info": {
   "codemirror_mode": {
    "name": "ipython",
    "version": 3
   },
   "file_extension": ".py",
   "mimetype": "text/x-python",
   "name": "python",
   "nbconvert_exporter": "python",
   "pygments_lexer": "ipython3",
   "version": "3.7.6"
  }
 },
 "nbformat": 4,
 "nbformat_minor": 4
}
