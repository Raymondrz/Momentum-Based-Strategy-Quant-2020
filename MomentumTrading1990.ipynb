{
 "cells": [
  {
   "cell_type": "markdown",
   "metadata": {},
   "source": [
    "## Past Future correlation Momentum Trading Strategy\n",
    "If we find that the correlation coefficient between a past return and future return is high and p-value is small [<0.05], proceed to see if its profitable\n",
    "This strategy is derived from a paper by Moskowitz,Yao and Pedersen simply buy (sell) the future if it has a positive (negative) 12-month return, and hold the position for 1 month"
   ]
  },
  {
   "cell_type": "code",
   "execution_count": 12,
   "metadata": {},
   "outputs": [],
   "source": [
    "import numpy as np\n",
    "import pandas as pd\n",
    "import pandas_datareader.data as web\n",
    "import datetime\n",
    "import matplotlib.pyplot as plt\n",
    "%matplotlib inline\n",
    "from scipy import stats "
   ]
  },
  {
   "cell_type": "code",
   "execution_count": 25,
   "metadata": {},
   "outputs": [
    {
     "name": "stdout",
     "output_type": "stream",
     "text": [
      "    Look-back  Holding days  Correlation Coefficient  P-Value\"\n",
      "0         5.0           5.0                -0.067704  0.129799\n",
      "1         5.0          10.0                -0.094235  0.136533\n",
      "2         5.0          25.0                -0.045904  0.650184\n",
      "3         5.0          60.0                -0.316071  0.044094\n",
      "4         5.0         120.0                -0.321695  0.166627\n",
      "5         5.0         180.0                -0.225934  0.457957\n",
      "6         5.0         250.0                 0.468516  0.172009\n",
      "7        10.0           5.0                -0.152727  0.015444\n",
      "8        10.0          10.0                -0.159220  0.011703\n",
      "9        10.0          25.0                -0.110805  0.272421\n",
      "10       10.0          60.0                 0.014470  0.928450\n",
      "11       10.0         120.0                 0.077311  0.745962\n",
      "12       10.0         180.0                -0.019127  0.950548\n",
      "13       10.0         250.0                 0.094686  0.794721\n",
      "14       25.0           5.0                -0.079569  0.431317\n",
      "15       25.0          10.0                 0.043847  0.664898\n",
      "16       25.0          25.0                 0.024344  0.810965\n",
      "17       25.0          60.0                 0.046983  0.770518\n",
      "18       25.0         120.0                -0.232684  0.323531\n",
      "19       25.0         180.0                 0.038307  0.901120\n",
      "20       25.0         250.0                 0.268053  0.485577\n",
      "21       60.0           5.0                 0.207369  0.193278\n",
      "22       60.0          10.0                 0.035305  0.826543\n",
      "23       60.0          25.0                 0.102936  0.521890\n",
      "24       60.0          60.0                -0.146470  0.367130\n",
      "25       60.0         120.0                -0.272678  0.244773\n",
      "26       60.0         180.0                 0.354891  0.234095\n",
      "27       60.0         250.0                 0.037574  0.923544\n",
      "28      120.0           5.0                 0.322372  0.165685\n",
      "29      120.0          10.0                 0.351018  0.129144\n",
      "30      120.0          25.0                 0.497117  0.025748\n",
      "31      120.0          60.0                -0.118168  0.619767\n",
      "32      120.0         120.0                -0.301354  0.209918\n",
      "33      120.0         180.0                -0.341924  0.252832\n",
      "34      120.0         250.0                 0.007739  0.984236\n",
      "35      180.0           5.0                -0.163947  0.592511\n",
      "36      180.0          10.0                 0.132589  0.665886\n",
      "37      180.0          25.0                -0.056125  0.855494\n",
      "38      180.0          60.0                -0.077462  0.801406\n",
      "39      180.0         120.0                -0.287959  0.340054\n",
      "40      180.0         180.0                -0.195437  0.542709\n",
      "41      180.0         250.0                -0.304636  0.425413\n",
      "42      250.0           5.0                -0.431864  0.212650\n",
      "43      250.0          10.0                -0.114329  0.753149\n",
      "44      250.0          25.0                -0.575959  0.104583\n",
      "45      250.0          60.0                -0.573930  0.106099\n",
      "46      250.0         120.0                -0.499939  0.170531\n",
      "47      250.0         180.0                -0.505409  0.165151\n",
      "48      250.0         250.0                -0.614378  0.078347\n",
      "-----------------------------------------------------------------\n",
      "Trading Statistics: \n",
      "APR: 19.21786460841799\n",
      "Sharpe: 0.7652318136576677\n"
     ]
    },
    {
     "data": {
      "text/plain": [
       "[<matplotlib.lines.Line2D at 0x1a1d41b650>]"
      ]
     },
     "execution_count": 25,
     "metadata": {},
     "output_type": "execute_result"
    },
    {
     "data": {
      "image/png": "[encoded data removed]",
      "text/plain": [
       "<Figure size 432x288 with 1 Axes>"
      ]
     },
     "metadata": {
      "needs_background": "light"
     },
     "output_type": "display_data"
    }
   ],
   "source": [
    "#Stock you want to analyze\n",
    "df=web.DataReader('AMZN','yahoo','2010-01-01','2020-01-01' ) \n",
    "correlation_Opt(df)\n",
    "cumret=strategy(df,250,25)\n",
    "plt.plot(cumret)"
   ]
  },
  {
   "cell_type": "code",
   "execution_count": 17,
   "metadata": {},
   "outputs": [],
   "source": [
    "def correlation_Opt(ts):\n",
    "    ts.reset_index(drop=True,inplace=True)\n",
    "    ts=ts['Adj Close']\n",
    "    lookback=[5,10,25,60,120,180,250]\n",
    "    holddays =[5,10,25,60,120,180,250]\n",
    "    dfObj=pd.DataFrame(columns=['Look-back' , 'Holding days', 'Correlation Coefficient' , 'P-Value\"'])\n",
    "    for look in lookback:\n",
    "        for hold in holddays:\n",
    "           #Lag and Fut return\n",
    "            ret_lag=(ts-ts.shift(look))/ts.shift(look)\n",
    "            ret_fut=(ts.shift(-hold)-ts)/ts\n",
    "            #Remove row with nan values\n",
    "            df=pd.concat([ret_lag,ret_fut],axis=1)\n",
    "            df.columns=['lag','fut']\n",
    "            df.dropna(inplace=True)\n",
    "            df.reset_index(drop=True,inplace=True)\n",
    "            ret_lag=df['lag']\n",
    "            ret_fut=df['fut']\n",
    "            #Remove overlapping data \n",
    "            if (look>=hold):\n",
    "                indepSet=np.arange(0,len(ret_lag)+1,look)\n",
    "            else:\n",
    "                indepSet=np.arange(0,len(ret_lag)+1,hold)\n",
    "            \n",
    "            ret_lag=ret_lag[indepSet]\n",
    "            ret_fut=ret_fut[indepSet]\n",
    "            cor,p_val=stats.pearsonr(ret_lag,ret_fut)\n",
    "            dfObj = dfObj.append(pd.Series([look, hold, cor, p_val], index=dfObj.columns ), ignore_index=True)\n",
    "    print (dfObj)\n"
   ]
  },
  {
   "cell_type": "code",
   "execution_count": 23,
   "metadata": {},
   "outputs": [],
   "source": [
    "def strategy(ts,lookback,holddays):\n",
    "    #ts.reset_index(inplace=True,drop=True)\n",
    "\n",
    "    longs= ts['Adj Close'] > ts['Adj Close'].shift(lookback)\n",
    "    shorts= ts['Adj Close'] < ts['Adj Close'].shift(lookback)\n",
    "    \n",
    "    ts['pos']=0\n",
    "    \n",
    "    positions = pd.DataFrame().reindex_like(longs.to_frame())\n",
    "    positions = positions.fillna(0)\n",
    "    #lag the long signal according to our holding period\n",
    "    for h in range(holddays):\n",
    "        long_lag=longs.shift(h).fillna(False)\n",
    "        short_lag=shorts.shift(h).fillna(False)\n",
    "                                       \n",
    "        df.loc[long_lag,'pos']+=1\n",
    "        df.loc[short_lag,'pos']-=1    \n",
    "        ret=(df['pos'].shift(1)*(df['Adj Close']-df['Adj Close'].shift(1)) / df.Close.shift(1)) / holddays\n",
    "        cumret=np.cumprod(1+ret)-1\n",
    "    print ('-'*65)\n",
    "    print ('Trading Statistics: ')\n",
    "    print ('APR:', (((np.prod(1.+ret))**(252./len(ret)))-1)*100)\n",
    "    print ('Sharpe:', np.sqrt(252.)*np.mean(ret)/np.std(ret)) \n",
    "    return cumret\n",
    "\n"
   ]
  },
  {
   "cell_type": "code",
   "execution_count": null,
   "metadata": {},
   "outputs": [],
   "source": []
  }
 ],
 "metadata": {
  "kernelspec": {
   "display_name": "Python 3",
   "language": "python",
   "name": "python3"
  },
  "language_info": {
   "codemirror_mode": {
    "name": "ipython",
    "version": 3
   },
   "file_extension": ".py",
   "mimetype": "text/x-python",
   "name": "python",
   "nbconvert_exporter": "python",
   "pygments_lexer": "ipython3",
   "version": "3.7.6"
  }
 },
 "nbformat": 4,
 "nbformat_minor": 4
}
