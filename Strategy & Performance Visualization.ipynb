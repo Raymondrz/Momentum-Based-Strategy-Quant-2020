{
 "cells": [
  {
   "cell_type": "code",
   "execution_count": 1,
   "metadata": {},
   "outputs": [],
   "source": [
    "import numpy as np\n",
    "import pandas as pd\n",
    "import pandas_datareader.data as web\n",
    "import datetime\n",
    "import matplotlib.pyplot as plt\n",
    "%matplotlib inline"
   ]
  },
  {
   "cell_type": "code",
   "execution_count": 9,
   "metadata": {},
   "outputs": [],
   "source": [
    "def buy_sell_visualization(ts):\n",
    "    df=ts\n",
    "    plt.figure(figsize=(16,8))\n",
    "    plt.plot(df['Adj Close'],label=ticker,alpha=0.5)\n",
    "    plt.scatter(df.index,df['Buy_Signal_Price'],label='Buy',marker='^',color='green')\n",
    "    plt.scatter(df.index,df['Sell_Signal_Price'],label='Sell',marker='v',color='red')\n",
    "    plt.title('CURIC Buy and Sell Visualization ')\n",
    "    plt.xlabel('Date')\n",
    "    plt.ylabel('Adj Closing Price')\n",
    "    plt.legend(loc='upper left')\n",
    "    "
   ]
  },
  {
   "cell_type": "code",
   "execution_count": null,
   "metadata": {},
   "outputs": [],
   "source": [
    "def cumulative_return(ts):\n",
    "    df=ts\n",
    "    df['01 Trading Srategy']=1*(1+df['daily_ret']).cumprod()\n",
    "    df['02 Buy and Hold']1*(1+df['Ownreturn']).cumprod()\n",
    "    df[['01 Trading Srategy','02 Buy and Hold']].plot(label='tesla',figsize=(10,6))\n",
    "    plt.title('Cumulative Returns Performance ')"
   ]
  },
  {
   "cell_type": "code",
   "execution_count": 11,
   "metadata": {},
   "outputs": [],
   "source": [
    "def dollar_profitloss(ts):\n",
    "    \n",
    "    fig=plt.figure(figsize=(10,6))\n",
    "    x=range(len(pnl))\n",
    "    plt.bar(x,pnl,alpha=0.5)\n",
    "    plt.xlabel('trades',fontsize=14)\n",
    "    plt.ylabel('Profit/Loss ($)', fontsize=14)\n",
    "    plt.show()"
   ]
  },
  {
   "cell_type": "code",
   "execution_count": null,
   "metadata": {},
   "outputs": [],
   "source": []
  }
 ],
 "metadata": {
  "kernelspec": {
   "display_name": "Python 3",
   "language": "python",
   "name": "python3"
  },
  "language_info": {
   "codemirror_mode": {
    "name": "ipython",
    "version": 3
   },
   "file_extension": ".py",
   "mimetype": "text/x-python",
   "name": "python",
   "nbconvert_exporter": "python",
   "pygments_lexer": "ipython3",
   "version": "3.7.7"
  }
 },
 "nbformat": 4,
 "nbformat_minor": 4
}
